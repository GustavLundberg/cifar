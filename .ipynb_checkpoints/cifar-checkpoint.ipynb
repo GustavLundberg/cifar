{
 "cells": [
  {
   "cell_type": "code",
   "execution_count": 1,
   "metadata": {},
   "outputs": [
    {
     "name": "stdout",
     "output_type": "stream",
     "text": [
      "2.1.0\n"
     ]
    }
   ],
   "source": [
    "import tensorflow as tf\n",
    "from tensorflow.keras import datasets, layers, models, optimizers, losses\n",
    "import matplotlib.pyplot as plt\n",
    "import numpy as np\n",
    "import math\n",
    "from collections import Counter\n",
    "print(tf.__version__)"
   ]
  },
  {
   "cell_type": "code",
   "execution_count": 2,
   "metadata": {},
   "outputs": [],
   "source": [
    "(train_images, train_labels), (test_images, test_labels) = datasets.cifar10.load_data()\n",
    "num_classes = 10"
   ]
  },
  {
   "cell_type": "code",
   "execution_count": 3,
   "metadata": {},
   "outputs": [
    {
     "name": "stdout",
     "output_type": "stream",
     "text": [
      "train_images.shape =  (50000, 32, 32, 3)\n",
      "train_labels.shape =  (50000, 1)\n",
      "test_images.shape =  (10000, 32, 32, 3)\n",
      "test_labels.shape =  (10000, 1)\n"
     ]
    }
   ],
   "source": [
    "### Data exploration ###\n",
    "print('train_images.shape = ', train_images.shape)\n",
    "print('train_labels.shape = ', train_labels.shape)\n",
    "print('test_images.shape = ', test_images.shape)\n",
    "print('test_labels.shape = ', test_labels.shape)"
   ]
  },
  {
   "cell_type": "code",
   "execution_count": 4,
   "metadata": {},
   "outputs": [
    {
     "name": "stdout",
     "output_type": "stream",
     "text": [
      "labels =  {0, 1, 2, 3, 4, 5, 6, 7, 8, 9}\n",
      "train_count =  Counter({6: 5000, 9: 5000, 4: 5000, 1: 5000, 2: 5000, 7: 5000, 8: 5000, 3: 5000, 5: 5000, 0: 5000})\n",
      "test_count =  Counter({3: 1000, 8: 1000, 0: 1000, 6: 1000, 1: 1000, 9: 1000, 5: 1000, 7: 1000, 4: 1000, 2: 1000})\n"
     ]
    }
   ],
   "source": [
    "### Data exploration - outputs ###\n",
    "set_labels = set(np.reshape(train_labels, (-1)))\n",
    "train_count = Counter(np.reshape(train_labels, (-1)))\n",
    "test_count = Counter(np.reshape(test_labels, (-1)))\n",
    "print('labels = ', set_labels)\n",
    "print('train_count = ', train_count)\n",
    "print('test_count = ', test_count)"
   ]
  },
  {
   "cell_type": "code",
   "execution_count": 5,
   "metadata": {},
   "outputs": [],
   "source": [
    "### Converting to one-hot encoding ###\n",
    "train_labels = np.array(tf.one_hot(train_labels, depth = num_classes))\n",
    "test_labels = np.array(tf.one_hot(test_labels, depth = num_classes))"
   ]
  },
  {
   "cell_type": "code",
   "execution_count": 6,
   "metadata": {},
   "outputs": [
    {
     "name": "stdout",
     "output_type": "stream",
     "text": [
      "train_labels.shape =  (50000, 10)\n",
      "test_labels.shape =  (10000, 10)\n",
      "train_labels[0] =  [0. 0. 0. 0. 0. 0. 1. 0. 0. 0.]\n"
     ]
    }
   ],
   "source": [
    "train_labels = np.reshape(train_labels, (-1, num_classes))\n",
    "test_labels = np.reshape(test_labels, (-1, num_classes))\n",
    "print('train_labels.shape = ', train_labels.shape)\n",
    "print('test_labels.shape = ', test_labels.shape)\n",
    "print('train_labels[0] = ', train_labels[0])"
   ]
  },
  {
   "cell_type": "code",
   "execution_count": 7,
   "metadata": {},
   "outputs": [
    {
     "name": "stdout",
     "output_type": "stream",
     "text": [
      "<class 'numpy.ndarray'>\n",
      "min_input_value =  0\n",
      "max_input_value =  255\n"
     ]
    }
   ],
   "source": [
    "### Data exploration - inputs ###\n",
    "print(type(train_images[0]))\n",
    "min_input_value = min(np.min(train_images), np.min(test_images))\n",
    "max_input_value = max(np.max(train_images), np.max(test_images))\n",
    "print('min_input_value = ', min_input_value)\n",
    "print('max_input_value = ', max_input_value)"
   ]
  },
  {
   "cell_type": "code",
   "execution_count": 8,
   "metadata": {},
   "outputs": [
    {
     "data": {
      "image/png": "[encoded data removed]",
      "text/plain": [
       "<Figure size 576x576 with 5 Axes>"
      ]
     },
     "metadata": {},
     "output_type": "display_data"
    }
   ],
   "source": [
    "### Plotting a few images ###\n",
    "class_names = ['airplane', 'automobile', 'bird', 'cat', 'deer', 'dog', 'frog', 'horse', 'ship', 'truck']\n",
    "\n",
    "def plot_examples(x, y = None, figsize = (8, 8)):\n",
    "    \n",
    "    ncols = math.ceil(len(x) ** (1/2))\n",
    "    nrows = ncols\n",
    "    plt.figure(figsize = figsize)\n",
    "    \n",
    "    for i in range(len(x)):\n",
    "        ax = plt.subplot(nrows, ncols, i+1)\n",
    "        plt.imshow(x[i])\n",
    "        if y.any():\n",
    "            plt.title(class_names[np.argmax(y[i])])\n",
    "        plt.xticks([])\n",
    "        plt.yticks([])\n",
    "    \n",
    "\n",
    "            \n",
    "plot_examples(train_images[:5], train_labels[:5])"
   ]
  },
  {
   "cell_type": "code",
   "execution_count": 9,
   "metadata": {},
   "outputs": [],
   "source": [
    "### Normalization ###\n",
    "train_images = train_images / 255\n",
    "test_images = test_images / 255"
   ]
  },
  {
   "cell_type": "code",
   "execution_count": 48,
   "metadata": {},
   "outputs": [
    {
     "name": "stdout",
     "output_type": "stream",
     "text": [
      "Model: \"sequential_10\"\n",
      "_________________________________________________________________\n",
      "Layer (type)                 Output Shape              Param #   \n",
      "=================================================================\n",
      "conv2d_40 (Conv2D)           (None, 30, 30, 32)        896       \n",
      "_________________________________________________________________\n",
      "dropout_30 (Dropout)         (None, 30, 30, 32)        0         \n",
      "_________________________________________________________________\n",
      "conv2d_41 (Conv2D)           (None, 28, 28, 32)        9248      \n",
      "_________________________________________________________________\n",
      "max_pooling2d_2 (MaxPooling2 (None, 14, 14, 32)        0         \n",
      "_________________________________________________________________\n",
      "conv2d_42 (Conv2D)           (None, 12, 12, 32)        9248      \n",
      "_________________________________________________________________\n",
      "dropout_31 (Dropout)         (None, 12, 12, 32)        0         \n",
      "_________________________________________________________________\n",
      "batch_normalization_13 (Batc (None, 12, 12, 32)        128       \n",
      "_________________________________________________________________\n",
      "conv2d_43 (Conv2D)           (None, 10, 10, 32)        9248      \n",
      "_________________________________________________________________\n",
      "dropout_32 (Dropout)         (None, 10, 10, 32)        0         \n",
      "_________________________________________________________________\n",
      "flatten_10 (Flatten)         (None, 3200)              0         \n",
      "_________________________________________________________________\n",
      "dense_17 (Dense)             (None, 10)                32010     \n",
      "=================================================================\n",
      "Total params: 60,778\n",
      "Trainable params: 60,714\n",
      "Non-trainable params: 64\n",
      "_________________________________________________________________\n"
     ]
    }
   ],
   "source": [
    "model = models.Sequential()\n",
    "\n",
    "model.add(layers.Conv2D(32, (3, 3), input_shape = (32, 32, 3), activation = 'relu'))#, data_format='channels_last'))\n",
    "model.add(layers.Dropout(rate = 0.5))\n",
    "\n",
    "#model.add(layers.BatchNormalization())\n",
    "model.add(layers.Conv2D(32, (3, 3), activation = 'relu'))\n",
    "#model.add(layers.Dropout(rate = 0.5))\n",
    "model.add(layers.MaxPooling2D((2, 2)))\n",
    "\n",
    "#model.add(layers.BatchNormalization())\n",
    "model.add(layers.Conv2D(32, (3, 3), activation = 'relu'))\n",
    "model.add(layers.Dropout(rate = 0.5))\n",
    "\n",
    "model.add(layers.BatchNormalization())\n",
    "model.add(layers.Conv2D(32, (3, 3), activation = 'relu'))\n",
    "model.add(layers.Dropout(rate = 0.5))\n",
    "\n",
    "model.add(layers.Flatten())\n",
    "#model.add(layers.Dense(16, activation = 'relu'))\n",
    "model.add(layers.Dense(num_classes, activation = 'softmax'))\n",
    "\n",
    "model.summary()"
   ]
  },
  {
   "cell_type": "code",
   "execution_count": 49,
   "metadata": {},
   "outputs": [
    {
     "name": "stdout",
     "output_type": "stream",
     "text": [
      "(2, 32, 32, 3)\n",
      "(2, 10)\n",
      "[[0.09053528 0.08901169 0.10155882 0.10627563 0.08407432 0.09269375\n",
      "  0.11287179 0.13257332 0.08726028 0.10314509]\n",
      " [0.08533712 0.1007738  0.10290207 0.09219906 0.0758262  0.08704522\n",
      "  0.12367179 0.14290643 0.0881872  0.10115112]]\n"
     ]
    }
   ],
   "source": [
    "### Checking so that dimensions are as expected ###\n",
    "print(train_images[0:2].shape)\n",
    "pred = model.predict(train_images[0:2])\n",
    "print(pred.shape)\n",
    "print(pred)"
   ]
  },
  {
   "cell_type": "code",
   "execution_count": 50,
   "metadata": {},
   "outputs": [],
   "source": [
    "### Choosing optimizer and compiling ###\n",
    "opt = optimizers.Adam(learning_rate = 0.001)\n",
    "loss_func = losses.CategoricalCrossentropy()\n",
    "model.compile(opt, loss = loss_func, metrics = ['accuracy'])"
   ]
  },
  {
   "cell_type": "code",
   "execution_count": null,
   "metadata": {},
   "outputs": [
    {
     "name": "stdout",
     "output_type": "stream",
     "text": [
      "Train on 50000 samples, validate on 10000 samples\n",
      "Epoch 1/10\n",
      "50000/50000 [==============================] - 159s 3ms/sample - loss: 1.7902 - accuracy: 0.3482 - val_loss: 1.6463 - val_accuracy: 0.4245\n",
      "Epoch 2/10\n",
      "50000/50000 [==============================] - 158s 3ms/sample - loss: 1.4969 - accuracy: 0.4550 - val_loss: 1.9363 - val_accuracy: 0.3464\n",
      "Epoch 3/10\n",
      "50000/50000 [==============================] - 155s 3ms/sample - loss: 1.4068 - accuracy: 0.4943 - val_loss: 1.4145 - val_accuracy: 0.4956\n",
      "Epoch 4/10\n",
      "50000/50000 [==============================] - 157s 3ms/sample - loss: 1.3467 - accuracy: 0.5154 - val_loss: 1.5021 - val_accuracy: 0.4875\n",
      "Epoch 5/10\n",
      "50000/50000 [==============================] - 163s 3ms/sample - loss: 1.3021 - accuracy: 0.5348 - val_loss: 1.3761 - val_accuracy: 0.5230\n",
      "Epoch 6/10\n",
      "50000/50000 [==============================] - 154s 3ms/sample - loss: 1.2707 - accuracy: 0.5489 - val_loss: 1.5048 - val_accuracy: 0.4853\n",
      "Epoch 7/10\n",
      "50000/50000 [==============================] - 168s 3ms/sample - loss: 1.2469 - accuracy: 0.5579 - val_loss: 1.4177 - val_accuracy: 0.5011\n",
      "Epoch 8/10\n",
      "50000/50000 [==============================] - 166s 3ms/sample - loss: 1.2258 - accuracy: 0.5617 - val_loss: 1.5715 - val_accuracy: 0.4809\n",
      "Epoch 9/10\n",
      "20704/50000 [===========>..................] - ETA: 1:43 - loss: 1.2164 - accuracy: 0.5657"
     ]
    }
   ],
   "source": [
    "### Training the model ###\n",
    "batch_size = 32\n",
    "num_epochs = 10\n",
    "\n",
    "history = model.fit(train_images, \n",
    "                    train_labels,\n",
    "                    batch_size = batch_size,\n",
    "                    epochs = num_epochs,\n",
    "                    validation_data = (test_images, test_labels)\n",
    "                    )"
   ]
  },
  {
   "cell_type": "code",
   "execution_count": 41,
   "metadata": {},
   "outputs": [
    {
     "data": {
      "image/png": "[encoded data removed]",
      "text/plain": [
       "<Figure size 432x288 with 1 Axes>"
      ]
     },
     "metadata": {
      "needs_background": "light"
     },
     "output_type": "display_data"
    }
   ],
   "source": [
    "### Evaluating the model - accuracy ###\n",
    "plt.plot(history.history['accuracy'], label = 'accuracy')\n",
    "plt.plot(history.history['val_accuracy'], label = 'val_accuracy')\n",
    "plt.title('Accuracy')\n",
    "plt.xlabel('epochs')\n",
    "plt.legend()\n",
    "plt.show()"
   ]
  },
  {
   "cell_type": "code",
   "execution_count": 42,
   "metadata": {},
   "outputs": [
    {
     "data": {
      "image/png": "[encoded data removed]",
      "text/plain": [
       "<Figure size 432x288 with 1 Axes>"
      ]
     },
     "metadata": {
      "needs_background": "light"
     },
     "output_type": "display_data"
    }
   ],
   "source": [
    "### Evaluating the model - loss ###\n",
    "plt.plot(history.history['loss'], label = 'loss')\n",
    "plt.plot(history.history['val_loss'], label = 'val_loss')\n",
    "plt.title('Loss')\n",
    "plt.xlabel('epochs')\n",
    "plt.legend()\n",
    "plt.show()"
   ]
  },
  {
   "cell_type": "code",
   "execution_count": null,
   "metadata": {},
   "outputs": [],
   "source": [
    "### Making some predictions ###\n",
    "x = test_images[:50]\n",
    "pred = model.predict(x)\n",
    "plot_examples(x, pred, figsize = (15, 15))"
   ]
  },
  {
   "cell_type": "code",
   "execution_count": null,
   "metadata": {},
   "outputs": [],
   "source": []
  }
 ],
 "metadata": {
  "kernelspec": {
   "display_name": "OpenAIGym",
   "language": "python",
   "name": "openaigym"
  },
  "language_info": {
   "codemirror_mode": {
    "name": "ipython",
    "version": 3
   },
   "file_extension": ".py",
   "mimetype": "text/x-python",
   "name": "python",
   "nbconvert_exporter": "python",
   "pygments_lexer": "ipython3",
   "version": "3.7.7"
  }
 },
 "nbformat": 4,
 "nbformat_minor": 2
}
