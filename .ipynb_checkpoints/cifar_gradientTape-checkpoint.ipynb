{
 "cells": [
  {
   "cell_type": "code",
   "execution_count": 1,
   "metadata": {},
   "outputs": [],
   "source": [
    "### Training a CNN using gradient_tape to 'manually' grab the gradients and updating the weights of the network ###"
   ]
  },
  {
   "cell_type": "code",
   "execution_count": 2,
   "metadata": {},
   "outputs": [
    {
     "name": "stdout",
     "output_type": "stream",
     "text": [
      "2.1.0\n"
     ]
    }
   ],
   "source": [
    "import tensorflow as tf\n",
    "from tensorflow.keras import datasets, layers, models, optimizers, losses\n",
    "import matplotlib.pyplot as plt\n",
    "import numpy as np\n",
    "import math\n",
    "import time\n",
    "from collections import Counter\n",
    "print(tf.__version__)"
   ]
  },
  {
   "cell_type": "code",
   "execution_count": 3,
   "metadata": {},
   "outputs": [],
   "source": [
    "(train_images, train_labels), (test_images, test_labels) = datasets.cifar10.load_data()\n",
    "num_classes = 10"
   ]
  },
  {
   "cell_type": "code",
   "execution_count": 4,
   "metadata": {},
   "outputs": [
    {
     "name": "stdout",
     "output_type": "stream",
     "text": [
      "<class 'numpy.ndarray'>\n",
      "train_images.shape =  (50000, 32, 32, 3)\n",
      "train_labels.shape =  (50000, 1)\n",
      "test_images.shape =  (10000, 32, 32, 3)\n",
      "test_labels.shape =  (10000, 1)\n"
     ]
    }
   ],
   "source": [
    "### Data exploration ###\n",
    "print(type(train_images))\n",
    "print('train_images.shape = ', train_images.shape)\n",
    "print('train_labels.shape = ', train_labels.shape)\n",
    "print('test_images.shape = ', test_images.shape)\n",
    "print('test_labels.shape = ', test_labels.shape)"
   ]
  },
  {
   "cell_type": "code",
   "execution_count": 5,
   "metadata": {},
   "outputs": [
    {
     "name": "stdout",
     "output_type": "stream",
     "text": [
      "labels =  {0, 1, 2, 3, 4, 5, 6, 7, 8, 9}\n",
      "train_count =  Counter({6: 5000, 9: 5000, 4: 5000, 1: 5000, 2: 5000, 7: 5000, 8: 5000, 3: 5000, 5: 5000, 0: 5000})\n",
      "test_count =  Counter({3: 1000, 8: 1000, 0: 1000, 6: 1000, 1: 1000, 9: 1000, 5: 1000, 7: 1000, 4: 1000, 2: 1000})\n"
     ]
    }
   ],
   "source": [
    "### Data exploration - outputs ###\n",
    "set_labels = set(np.reshape(train_labels, (-1)))\n",
    "train_count = Counter(np.reshape(train_labels, (-1)))\n",
    "test_count = Counter(np.reshape(test_labels, (-1)))\n",
    "print('labels = ', set_labels)\n",
    "print('train_count = ', train_count)\n",
    "print('test_count = ', test_count)"
   ]
  },
  {
   "cell_type": "code",
   "execution_count": 6,
   "metadata": {},
   "outputs": [],
   "source": [
    "### Converting to one-hot encoding ###\n",
    "train_labels = np.array(tf.one_hot(train_labels, depth = num_classes))\n",
    "test_labels = np.array(tf.one_hot(test_labels, depth = num_classes))"
   ]
  },
  {
   "cell_type": "code",
   "execution_count": 7,
   "metadata": {},
   "outputs": [
    {
     "name": "stdout",
     "output_type": "stream",
     "text": [
      "train_labels.shape =  (50000, 10)\n",
      "test_labels.shape =  (10000, 10)\n",
      "train_labels[0] =  [0. 0. 0. 0. 0. 0. 1. 0. 0. 0.]\n"
     ]
    }
   ],
   "source": [
    "train_labels = np.reshape(train_labels, (-1, num_classes))\n",
    "test_labels = np.reshape(test_labels, (-1, num_classes))\n",
    "print('train_labels.shape = ', train_labels.shape)\n",
    "print('test_labels.shape = ', test_labels.shape)\n",
    "print('train_labels[0] = ', train_labels[0])"
   ]
  },
  {
   "cell_type": "code",
   "execution_count": 8,
   "metadata": {},
   "outputs": [
    {
     "name": "stdout",
     "output_type": "stream",
     "text": [
      "<class 'numpy.ndarray'>\n",
      "min_input_value =  0\n",
      "max_input_value =  255\n"
     ]
    }
   ],
   "source": [
    "### Data exploration - inputs ###\n",
    "print(type(train_images[0]))\n",
    "min_input_value = min(np.min(train_images), np.min(test_images))\n",
    "max_input_value = max(np.max(train_images), np.max(test_images))\n",
    "print('min_input_value = ', min_input_value)\n",
    "print('max_input_value = ', max_input_value)"
   ]
  },
  {
   "cell_type": "code",
   "execution_count": 9,
   "metadata": {},
   "outputs": [
    {
     "data": {
      "image/png": "[encoded data removed]",
      "text/plain": [
       "<Figure size 576x576 with 5 Axes>"
      ]
     },
     "metadata": {},
     "output_type": "display_data"
    }
   ],
   "source": [
    "### Plotting a few images ###\n",
    "class_names = ['airplane', 'automobile', 'bird', 'cat', 'deer', 'dog', 'frog', 'horse', 'ship', 'truck']\n",
    "\n",
    "def plot_examples(x, y = None, figsize = (8, 8)):\n",
    "    \n",
    "    ncols = math.ceil(len(x) ** (1/2))\n",
    "    nrows = ncols\n",
    "    plt.figure(figsize = figsize)\n",
    "    \n",
    "    for i in range(len(x)):\n",
    "        ax = plt.subplot(nrows, ncols, i+1)\n",
    "        plt.imshow(x[i])\n",
    "        if y.any():\n",
    "            plt.title(class_names[np.argmax(y[i])])\n",
    "        plt.xticks([])\n",
    "        plt.yticks([])\n",
    "    \n",
    "\n",
    "            \n",
    "plot_examples(train_images[:5], train_labels[:5])"
   ]
  },
  {
   "cell_type": "code",
   "execution_count": 10,
   "metadata": {},
   "outputs": [],
   "source": [
    "### Normalization ###\n",
    "train_images = train_images / 255\n",
    "test_images = test_images / 255"
   ]
  },
  {
   "cell_type": "code",
   "execution_count": 11,
   "metadata": {},
   "outputs": [
    {
     "name": "stdout",
     "output_type": "stream",
     "text": [
      "Done half\n",
      "Done\n"
     ]
    }
   ],
   "source": [
    "### Converting to tf.dataset ###\n",
    "batch_size = 32\n",
    "limit = 1200\n",
    "train_ds = tf.data.Dataset.from_tensor_slices((train_images[:limit], train_labels[:limit])).shuffle(buffer_size = 1000, \n",
    "                                                                                    reshuffle_each_iteration = True).batch(batch_size)\n",
    "print('Done half')\n",
    "test_ds = tf.data.Dataset.from_tensor_slices((test_images[:limit], test_labels[:limit])).batch(batch_size)\n",
    "print('Done')"
   ]
  },
  {
   "cell_type": "code",
   "execution_count": 12,
   "metadata": {},
   "outputs": [
    {
     "name": "stdout",
     "output_type": "stream",
     "text": [
      "0\n",
      "<class 'tensorflow.python.framework.ops.EagerTensor'> (32, 32, 32, 3)\n",
      "<class 'tensorflow.python.framework.ops.EagerTensor'> (32, 10)\n",
      "tf.Tensor(\n",
      "[[[[0.11764706 0.06666667 0.07843137]\n",
      "   [0.10980392 0.05882353 0.0745098 ]\n",
      "   [0.10588235 0.05490196 0.07058824]\n",
      "   ...\n",
      "   [0.10588235 0.01960784 0.05098039]\n",
      "   [0.09803922 0.01960784 0.04313725]\n",
      "   [0.08627451 0.01568627 0.03921569]]\n",
      "\n",
      "  [[0.12941176 0.09803922 0.09803922]\n",
      "   [0.1254902  0.09411765 0.09411765]\n",
      "   [0.1254902  0.09411765 0.09411765]\n",
      "   ...\n",
      "   [0.10980392 0.02745098 0.05490196]\n",
      "   [0.10196078 0.02745098 0.05098039]\n",
      "   [0.09411765 0.02352941 0.04705882]]\n",
      "\n",
      "  [[0.14509804 0.12941176 0.11764706]\n",
      "   [0.1372549  0.1254902  0.10980392]\n",
      "   [0.1372549  0.12156863 0.10588235]\n",
      "   ...\n",
      "   [0.12156863 0.03529412 0.06666667]\n",
      "   [0.10980392 0.03529412 0.05882353]\n",
      "   [0.09803922 0.03137255 0.05490196]]\n",
      "\n",
      "  ...\n",
      "\n",
      "  [[0.18431373 0.16862745 0.14509804]\n",
      "   [0.19607843 0.18431373 0.14509804]\n",
      "   [0.25098039 0.24313725 0.18823529]\n",
      "   ...\n",
      "   [0.2        0.16078431 0.16078431]\n",
      "   [0.29019608 0.25098039 0.24705882]\n",
      "   [0.34117647 0.29803922 0.29803922]]\n",
      "\n",
      "  [[0.2745098  0.27058824 0.22745098]\n",
      "   [0.29411765 0.29019608 0.24705882]\n",
      "   [0.29411765 0.29019608 0.24313725]\n",
      "   ...\n",
      "   [0.20392157 0.16078431 0.18039216]\n",
      "   [0.21568627 0.17647059 0.19215686]\n",
      "   [0.25882353 0.21568627 0.23137255]]\n",
      "\n",
      "  [[0.39607843 0.39607843 0.36470588]\n",
      "   [0.40392157 0.40784314 0.36078431]\n",
      "   [0.45098039 0.45490196 0.4       ]\n",
      "   ...\n",
      "   [0.30588235 0.2627451  0.28235294]\n",
      "   [0.23921569 0.19607843 0.21568627]\n",
      "   [0.27843137 0.23529412 0.25490196]]]\n",
      "\n",
      "\n",
      " [[[0.63921569 0.61960784 0.58823529]\n",
      "   [0.64313725 0.63921569 0.58823529]\n",
      "   [0.49411765 0.54509804 0.43529412]\n",
      "   ...\n",
      "   [0.51372549 0.51764706 0.49019608]\n",
      "   [0.34117647 0.35294118 0.33333333]\n",
      "   [0.2        0.18823529 0.20392157]]\n",
      "\n",
      "  [[0.47058824 0.45490196 0.42745098]\n",
      "   [0.45098039 0.45490196 0.41176471]\n",
      "   [0.44705882 0.48235294 0.39607843]\n",
      "   ...\n",
      "   [0.47058824 0.47843137 0.45882353]\n",
      "   [0.33333333 0.35294118 0.3372549 ]\n",
      "   [0.23529412 0.22745098 0.23921569]]\n",
      "\n",
      "  [[0.45490196 0.45098039 0.42745098]\n",
      "   [0.48627451 0.49411765 0.46666667]\n",
      "   [0.46666667 0.48627451 0.42352941]\n",
      "   ...\n",
      "   [0.39215686 0.40784314 0.4       ]\n",
      "   [0.32156863 0.34509804 0.34509804]\n",
      "   [0.23529412 0.23529412 0.25098039]]\n",
      "\n",
      "  ...\n",
      "\n",
      "  [[0.84705882 0.69019608 0.61176471]\n",
      "   [0.81568627 0.36862745 0.30196078]\n",
      "   [0.78823529 0.58431373 0.46666667]\n",
      "   ...\n",
      "   [0.39215686 0.40784314 0.31372549]\n",
      "   [0.41960784 0.42745098 0.33333333]\n",
      "   [0.43137255 0.43137255 0.34117647]]\n",
      "\n",
      "  [[0.83137255 0.65490196 0.61176471]\n",
      "   [0.85098039 0.3372549  0.30980392]\n",
      "   [0.78823529 0.5372549  0.45490196]\n",
      "   ...\n",
      "   [0.56078431 0.55294118 0.48235294]\n",
      "   [0.54117647 0.5372549  0.46666667]\n",
      "   [0.50980392 0.51372549 0.44313725]]\n",
      "\n",
      "  [[0.91764706 0.75294118 0.73333333]\n",
      "   [0.83137255 0.33333333 0.32156863]\n",
      "   [0.82745098 0.58431373 0.54117647]\n",
      "   ...\n",
      "   [0.84705882 0.82745098 0.77254902]\n",
      "   [0.81176471 0.8        0.74509804]\n",
      "   [0.77254902 0.77254902 0.71764706]]]\n",
      "\n",
      "\n",
      " [[[0.4627451  0.43921569 0.43137255]\n",
      "   [0.5372549  0.4745098  0.43921569]\n",
      "   [0.40784314 0.32156863 0.26666667]\n",
      "   ...\n",
      "   [0.13333333 0.12156863 0.09019608]\n",
      "   [0.16078431 0.14901961 0.10980392]\n",
      "   [0.16078431 0.15294118 0.10980392]]\n",
      "\n",
      "  [[0.25882353 0.23137255 0.21568627]\n",
      "   [0.37254902 0.3254902  0.29019608]\n",
      "   [0.30980392 0.24313725 0.2       ]\n",
      "   ...\n",
      "   [0.08627451 0.0745098  0.05098039]\n",
      "   [0.09803922 0.08627451 0.05882353]\n",
      "   [0.12156863 0.10980392 0.08235294]]\n",
      "\n",
      "  [[0.18431373 0.15686275 0.12941176]\n",
      "   [0.18039216 0.14509804 0.11372549]\n",
      "   [0.16862745 0.12941176 0.09411765]\n",
      "   ...\n",
      "   [0.05490196 0.04313725 0.02745098]\n",
      "   [0.04705882 0.03529412 0.01960784]\n",
      "   [0.05882353 0.04313725 0.03137255]]\n",
      "\n",
      "  ...\n",
      "\n",
      "  [[0.47843137 0.4627451  0.45098039]\n",
      "   [0.51372549 0.50196078 0.49019608]\n",
      "   [0.52941176 0.51764706 0.50588235]\n",
      "   ...\n",
      "   [0.80392157 0.76862745 0.78431373]\n",
      "   [0.61176471 0.57254902 0.59607843]\n",
      "   [0.5372549  0.49803922 0.5254902 ]]\n",
      "\n",
      "  [[0.86666667 0.83921569 0.81960784]\n",
      "   [0.88235294 0.85882353 0.83921569]\n",
      "   [0.86666667 0.84313725 0.82352941]\n",
      "   ...\n",
      "   [0.68235294 0.65098039 0.64705882]\n",
      "   [0.61176471 0.57647059 0.58823529]\n",
      "   [0.6        0.56470588 0.57254902]]\n",
      "\n",
      "  [[0.67058824 0.64313725 0.62352941]\n",
      "   [0.6627451  0.63529412 0.61176471]\n",
      "   [0.64313725 0.61568627 0.59215686]\n",
      "   ...\n",
      "   [0.65098039 0.63137255 0.61960784]\n",
      "   [0.6745098  0.65098039 0.64705882]\n",
      "   [0.67843137 0.65882353 0.65490196]]]\n",
      "\n",
      "\n",
      " ...\n",
      "\n",
      "\n",
      " [[[0.60784314 0.56862745 0.2745098 ]\n",
      "   [0.61176471 0.56078431 0.25882353]\n",
      "   [0.65882353 0.61568627 0.31372549]\n",
      "   ...\n",
      "   [0.41176471 0.40784314 0.11764706]\n",
      "   [0.4627451  0.45882353 0.19607843]\n",
      "   [0.50980392 0.50980392 0.23921569]]\n",
      "\n",
      "  [[0.64313725 0.6        0.28627451]\n",
      "   [0.63137255 0.57254902 0.25098039]\n",
      "   [0.66666667 0.61960784 0.30196078]\n",
      "   ...\n",
      "   [0.57647059 0.54509804 0.23529412]\n",
      "   [0.58039216 0.55686275 0.25098039]\n",
      "   [0.48627451 0.47058824 0.17254902]]\n",
      "\n",
      "  [[0.7254902  0.67843137 0.34509804]\n",
      "   [0.73333333 0.6745098  0.33333333]\n",
      "   [0.71764706 0.6627451  0.3254902 ]\n",
      "   ...\n",
      "   [0.6745098  0.63137255 0.28235294]\n",
      "   [0.62352941 0.59215686 0.23529412]\n",
      "   [0.55294118 0.52941176 0.18039216]]\n",
      "\n",
      "  ...\n",
      "\n",
      "  [[0.69019608 0.61568627 0.28627451]\n",
      "   [0.63137255 0.58039216 0.29803922]\n",
      "   [0.57254902 0.5372549  0.29803922]\n",
      "   ...\n",
      "   [0.2745098  0.32156863 0.14117647]\n",
      "   [0.36470588 0.4        0.20392157]\n",
      "   [0.41176471 0.45490196 0.23921569]]\n",
      "\n",
      "  [[0.69019608 0.62352941 0.3372549 ]\n",
      "   [0.53333333 0.48627451 0.23921569]\n",
      "   [0.54509804 0.51372549 0.29019608]\n",
      "   ...\n",
      "   [0.27058824 0.32156863 0.14901961]\n",
      "   [0.43529412 0.45882353 0.23921569]\n",
      "   [0.4627451  0.49019608 0.25098039]]\n",
      "\n",
      "  [[0.6745098  0.61568627 0.36078431]\n",
      "   [0.62352941 0.57254902 0.34901961]\n",
      "   [0.64313725 0.60392157 0.39607843]\n",
      "   ...\n",
      "   [0.3254902  0.38039216 0.22352941]\n",
      "   [0.4745098  0.49803922 0.26666667]\n",
      "   [0.45490196 0.48235294 0.23137255]]]\n",
      "\n",
      "\n",
      " [[[0.4        0.44705882 0.41960784]\n",
      "   [0.40392157 0.45098039 0.43921569]\n",
      "   [0.38823529 0.44313725 0.44313725]\n",
      "   ...\n",
      "   [0.33333333 0.4        0.38823529]\n",
      "   [0.33333333 0.39215686 0.38431373]\n",
      "   [0.33333333 0.38823529 0.38431373]]\n",
      "\n",
      "  [[0.39607843 0.43921569 0.41960784]\n",
      "   [0.39215686 0.43921569 0.42352941]\n",
      "   [0.38431373 0.43921569 0.43137255]\n",
      "   ...\n",
      "   [0.37647059 0.44705882 0.43529412]\n",
      "   [0.38039216 0.44705882 0.44705882]\n",
      "   [0.43137255 0.49411765 0.49411765]]\n",
      "\n",
      "  [[0.38823529 0.42745098 0.41568627]\n",
      "   [0.37254902 0.41960784 0.40392157]\n",
      "   [0.37254902 0.42745098 0.41176471]\n",
      "   ...\n",
      "   [0.38039216 0.45490196 0.45098039]\n",
      "   [0.39215686 0.46666667 0.4745098 ]\n",
      "   [0.41568627 0.49019608 0.50196078]]\n",
      "\n",
      "  ...\n",
      "\n",
      "  [[0.81176471 0.91372549 0.98039216]\n",
      "   [0.83137255 0.93333333 1.        ]\n",
      "   [0.81176471 0.91372549 0.97647059]\n",
      "   ...\n",
      "   [0.79607843 0.82745098 0.84705882]\n",
      "   [0.70980392 0.74509804 0.75686275]\n",
      "   [0.6745098  0.71372549 0.69803922]]\n",
      "\n",
      "  [[0.77647059 0.89019608 0.96078431]\n",
      "   [0.81568627 0.92941176 0.99607843]\n",
      "   [0.80392157 0.91372549 0.97647059]\n",
      "   ...\n",
      "   [0.85098039 0.84313725 0.82352941]\n",
      "   [0.87058824 0.86666667 0.84705882]\n",
      "   [0.8        0.79607843 0.77254902]]\n",
      "\n",
      "  [[0.74901961 0.85882353 0.9254902 ]\n",
      "   [0.81568627 0.92156863 0.98823529]\n",
      "   [0.81568627 0.91764706 0.97254902]\n",
      "   ...\n",
      "   [0.9254902  0.90980392 0.90588235]\n",
      "   [0.95686275 0.94509804 0.94509804]\n",
      "   [0.85882353 0.85098039 0.85098039]]]\n",
      "\n",
      "\n",
      " [[[0.68627451 0.65490196 0.61176471]\n",
      "   [0.6745098  0.63921569 0.59607843]\n",
      "   [0.64313725 0.61176471 0.56862745]\n",
      "   ...\n",
      "   [0.50980392 0.48235294 0.44313725]\n",
      "   [0.5254902  0.49411765 0.45490196]\n",
      "   [0.52156863 0.49411765 0.45098039]]\n",
      "\n",
      "  [[0.73333333 0.70196078 0.65882353]\n",
      "   [0.72156863 0.69019608 0.64705882]\n",
      "   [0.70980392 0.67843137 0.63529412]\n",
      "   ...\n",
      "   [0.52941176 0.50588235 0.46666667]\n",
      "   [0.55686275 0.52941176 0.49019608]\n",
      "   [0.55686275 0.52941176 0.49019608]]\n",
      "\n",
      "  [[0.72156863 0.69019608 0.64705882]\n",
      "   [0.71372549 0.68235294 0.63921569]\n",
      "   [0.70980392 0.68235294 0.63529412]\n",
      "   ...\n",
      "   [0.58823529 0.56078431 0.52156863]\n",
      "   [0.61176471 0.58431373 0.54509804]\n",
      "   [0.61960784 0.59215686 0.55294118]]\n",
      "\n",
      "  ...\n",
      "\n",
      "  [[0.65490196 0.61960784 0.55294118]\n",
      "   [0.64313725 0.60784314 0.54117647]\n",
      "   [0.67058824 0.63529412 0.56470588]\n",
      "   ...\n",
      "   [0.69803922 0.62745098 0.5372549 ]\n",
      "   [0.69019608 0.63529412 0.55294118]\n",
      "   [0.66666667 0.63137255 0.56470588]]\n",
      "\n",
      "  [[0.59215686 0.56078431 0.49019608]\n",
      "   [0.59607843 0.55686275 0.48235294]\n",
      "   [0.67058824 0.62745098 0.54509804]\n",
      "   ...\n",
      "   [0.64705882 0.61176471 0.54509804]\n",
      "   [0.65098039 0.61960784 0.55294118]\n",
      "   [0.63529412 0.60392157 0.54117647]]\n",
      "\n",
      "  [[0.63921569 0.60784314 0.5372549 ]\n",
      "   [0.57254902 0.53333333 0.45490196]\n",
      "   [0.63529412 0.58823529 0.50196078]\n",
      "   ...\n",
      "   [0.61568627 0.58823529 0.5254902 ]\n",
      "   [0.61960784 0.59607843 0.53333333]\n",
      "   [0.63921569 0.61176471 0.54901961]]]], shape=(32, 32, 32, 3), dtype=float64)\n",
      "tf.Tensor(\n",
      "[[0. 0. 0. 0. 0. 0. 1. 0. 0. 0.]\n",
      " [0. 0. 0. 0. 0. 0. 0. 0. 0. 1.]\n",
      " [0. 0. 0. 0. 0. 0. 0. 1. 0. 0.]\n",
      " [0. 0. 0. 1. 0. 0. 0. 0. 0. 0.]\n",
      " [0. 0. 0. 1. 0. 0. 0. 0. 0. 0.]\n",
      " [0. 0. 1. 0. 0. 0. 0. 0. 0. 0.]\n",
      " [0. 0. 0. 0. 0. 0. 0. 0. 0. 1.]\n",
      " [0. 0. 0. 1. 0. 0. 0. 0. 0. 0.]\n",
      " [1. 0. 0. 0. 0. 0. 0. 0. 0. 0.]\n",
      " [0. 0. 1. 0. 0. 0. 0. 0. 0. 0.]\n",
      " [0. 0. 0. 0. 0. 0. 0. 0. 0. 1.]\n",
      " [0. 0. 0. 0. 0. 0. 1. 0. 0. 0.]\n",
      " [1. 0. 0. 0. 0. 0. 0. 0. 0. 0.]\n",
      " [0. 0. 0. 0. 0. 0. 1. 0. 0. 0.]\n",
      " [0. 0. 1. 0. 0. 0. 0. 0. 0. 0.]\n",
      " [0. 0. 0. 0. 0. 0. 0. 1. 0. 0.]\n",
      " [0. 0. 0. 0. 0. 1. 0. 0. 0. 0.]\n",
      " [0. 0. 1. 0. 0. 0. 0. 0. 0. 0.]\n",
      " [0. 0. 1. 0. 0. 0. 0. 0. 0. 0.]\n",
      " [0. 0. 0. 0. 0. 1. 0. 0. 0. 0.]\n",
      " [0. 0. 0. 1. 0. 0. 0. 0. 0. 0.]\n",
      " [0. 0. 0. 0. 0. 1. 0. 0. 0. 0.]\n",
      " [0. 0. 1. 0. 0. 0. 0. 0. 0. 0.]\n",
      " [0. 0. 0. 0. 0. 0. 1. 0. 0. 0.]\n",
      " [0. 0. 0. 1. 0. 0. 0. 0. 0. 0.]\n",
      " [0. 0. 0. 0. 1. 0. 0. 0. 0. 0.]\n",
      " [0. 0. 0. 0. 0. 0. 0. 0. 1. 0.]\n",
      " [0. 0. 0. 1. 0. 0. 0. 0. 0. 0.]\n",
      " [0. 0. 0. 0. 0. 0. 0. 0. 1. 0.]\n",
      " [0. 0. 0. 0. 1. 0. 0. 0. 0. 0.]\n",
      " [0. 0. 1. 0. 0. 0. 0. 0. 0. 0.]\n",
      " [0. 0. 1. 0. 0. 0. 0. 0. 0. 0.]], shape=(32, 10), dtype=float32)\n"
     ]
    }
   ],
   "source": [
    "### Testing the dataset and batches ###\n",
    "i = 0\n",
    "for images, labels in train_ds:\n",
    "    print(i)\n",
    "    print(type(images), images.shape)\n",
    "    print(type(labels), labels.shape)\n",
    "    print(images)\n",
    "    print(labels)\n",
    "    i += 1\n",
    "    if i > 0:\n",
    "        break"
   ]
  },
  {
   "cell_type": "code",
   "execution_count": 23,
   "metadata": {},
   "outputs": [
    {
     "name": "stdout",
     "output_type": "stream",
     "text": [
      "Model: \"sequential_1\"\n",
      "_________________________________________________________________\n",
      "Layer (type)                 Output Shape              Param #   \n",
      "=================================================================\n",
      "conv2d_5 (Conv2D)            (None, 30, 30, 64)        1792      \n",
      "_________________________________________________________________\n",
      "dropout_3 (Dropout)          (None, 30, 30, 64)        0         \n",
      "_________________________________________________________________\n",
      "conv2d_6 (Conv2D)            (None, 28, 28, 64)        36928     \n",
      "_________________________________________________________________\n",
      "max_pooling2d_2 (MaxPooling2 (None, 14, 14, 64)        0         \n",
      "_________________________________________________________________\n",
      "conv2d_7 (Conv2D)            (None, 12, 12, 64)        36928     \n",
      "_________________________________________________________________\n",
      "max_pooling2d_3 (MaxPooling2 (None, 6, 6, 64)          0         \n",
      "_________________________________________________________________\n",
      "conv2d_8 (Conv2D)            (None, 4, 4, 64)          36928     \n",
      "_________________________________________________________________\n",
      "dropout_4 (Dropout)          (None, 4, 4, 64)          0         \n",
      "_________________________________________________________________\n",
      "batch_normalization_1 (Batch (None, 4, 4, 64)          256       \n",
      "_________________________________________________________________\n",
      "conv2d_9 (Conv2D)            (None, 2, 2, 32)          18464     \n",
      "_________________________________________________________________\n",
      "dropout_5 (Dropout)          (None, 2, 2, 32)          0         \n",
      "_________________________________________________________________\n",
      "flatten_1 (Flatten)          (None, 128)               0         \n",
      "_________________________________________________________________\n",
      "dense_1 (Dense)              (None, 10)                1290      \n",
      "=================================================================\n",
      "Total params: 132,586\n",
      "Trainable params: 132,458\n",
      "Non-trainable params: 128\n",
      "_________________________________________________________________\n"
     ]
    }
   ],
   "source": [
    "model = models.Sequential()\n",
    "\n",
    "model.add(layers.Conv2D(64, (3, 3), input_shape = (32, 32, 3), activation = 'relu'))#, data_format='channels_last'))\n",
    "model.add(layers.Dropout(rate = 0.5))\n",
    "\n",
    "model.add(layers.Conv2D(64, (3, 3), activation = 'relu'))\n",
    "model.add(layers.MaxPooling2D((2, 2)))\n",
    "\n",
    "model.add(layers.Conv2D(64, (3, 3), activation = 'relu'))\n",
    "model.add(layers.MaxPooling2D((2, 2)))\n",
    "\n",
    "model.add(layers.Conv2D(64, (3, 3), activation = 'relu'))\n",
    "model.add(layers.Dropout(rate = 0.5))\n",
    "\n",
    "model.add(layers.BatchNormalization())\n",
    "\n",
    "model.add(layers.Conv2D(32, (3, 3), activation = 'relu'))\n",
    "model.add(layers.Dropout(rate = 0.5))\n",
    "\n",
    "model.add(layers.Flatten())\n",
    "model.add(layers.Dense(num_classes, activation = 'softmax'))\n",
    "\n",
    "model.summary()"
   ]
  },
  {
   "cell_type": "code",
   "execution_count": 24,
   "metadata": {},
   "outputs": [],
   "source": [
    "### Choosing optimizer and compiling ###\n",
    "opt = optimizers.Adam(learning_rate = 0.001)\n",
    "loss_func = losses.CategoricalCrossentropy()\n",
    "acc_func = tf.keras.metrics.CategoricalAccuracy()\n",
    "#model.compile(opt, loss = loss_func, metrics = ['accuracy'])"
   ]
  },
  {
   "cell_type": "code",
   "execution_count": 25,
   "metadata": {},
   "outputs": [],
   "source": [
    "### Function for training a single batch ###\n",
    "def train_one_batch(x, y, loss_func, acc_func = None):\n",
    "    \n",
    "    with tf.GradientTape() as tape:\n",
    "        preds = model(x, training = True)\n",
    "        loss = loss_func(y, preds)\n",
    "    \n",
    "    gradients = tape.gradient(loss, model.trainable_variables)\n",
    "    opt.apply_gradients(zip(gradients, model.trainable_variables))\n",
    "    \n",
    "    if acc_func:\n",
    "        acc = acc_func(y, preds)\n",
    "    \n",
    "    return loss, acc"
   ]
  },
  {
   "cell_type": "code",
   "execution_count": 26,
   "metadata": {},
   "outputs": [],
   "source": [
    "### Function for validating a single batch ###\n",
    "def validate_one_batch(x, y, loss_func, acc_func = None):\n",
    "    \n",
    "    preds = model(x, training = False)\n",
    "    loss = loss_func(y, preds)\n",
    "    \n",
    "    if acc_func:\n",
    "        acc = acc_func(y, preds)\n",
    "    \n",
    "    return loss, acc"
   ]
  },
  {
   "cell_type": "code",
   "execution_count": 27,
   "metadata": {},
   "outputs": [
    {
     "name": "stdout",
     "output_type": "stream",
     "text": [
      "<class 'tensorflow.python.framework.ops.EagerTensor'> 0.5\n"
     ]
    }
   ],
   "source": [
    "y = [[0.1, 0.9, 0.8], [0.05, 0.95, 0]]\n",
    "pred = [[0, 0, 1], [0, 1, 0]]\n",
    "acc = tf.keras.metrics.CategoricalAccuracy()\n",
    "res = acc(y, pred)\n",
    "print(type(res), float(res))"
   ]
  },
  {
   "cell_type": "code",
   "execution_count": 28,
   "metadata": {},
   "outputs": [],
   "source": [
    "### Function for training the model ###\n",
    "def train_model(model, train_ds, test_ds, epochs, loss_func, acc_func):\n",
    "    \n",
    "    tot_t_start = time.time()\n",
    "    \n",
    "    loss = []\n",
    "    val_loss = []\n",
    "    acc = []\n",
    "    val_acc = []\n",
    "    \n",
    "    for ep in range(epochs):\n",
    "        \n",
    "        t_start = time.time()\n",
    "        \n",
    "        ep_loss = []\n",
    "        ep_val_loss = []\n",
    "        ep_acc = []\n",
    "        ep_val_acc = []\n",
    "        \n",
    "        # Iterating over the training set in batches\n",
    "        for images, labels in train_ds:\n",
    "            batch_loss, batch_acc = train_one_batch(images, labels, loss_func, acc_func)\n",
    "            batch_loss = float(batch_loss)\n",
    "            batch_acc = float(batch_acc)\n",
    "            ep_loss.append(batch_loss)\n",
    "            ep_acc.append(batch_acc)\n",
    "            \n",
    "        # Iterating over the validation set in batches\n",
    "        for images, labels in test_ds:\n",
    "            batch_loss, batch_acc = train_one_batch(images, labels, loss_func, acc_func)\n",
    "            batch_loss, batch_acc = float(batch_loss), float(batch_acc)\n",
    "            ep_val_loss.append(batch_loss)\n",
    "            ep_val_acc.append(batch_acc)\n",
    "        \n",
    "        # Keeping track of the loss\n",
    "        loss.append(np.mean(ep_loss))\n",
    "        val_loss.append(np.mean(ep_val_loss))\n",
    "        \n",
    "        # Keeping track of the accuracy\n",
    "        acc.append(np.mean(ep_acc))\n",
    "        val_acc.append(np.mean(ep_val_acc))\n",
    "        \n",
    "        time_taken = time.time() - t_start\n",
    "        \n",
    "        print(f'Epoch {ep+1}:     ',\n",
    "              f'loss = {round(loss[-1], 5):<10}',\n",
    "              f'val_loss = {round(val_loss[-1], 5):<10}',\n",
    "              f'acc = {round(acc[-1], 5):<10}',\n",
    "              f'val_acc = {round(val_acc[-1], 5):<10}',\n",
    "              f'time = {round(time_taken, 2):<10}')\n",
    "        \n",
    "    print(f'Total time taken = {round(time.time() - tot_t_start, 2)} seconds')\n",
    "    return loss, val_loss, acc, val_acc"
   ]
  },
  {
   "cell_type": "code",
   "execution_count": null,
   "metadata": {},
   "outputs": [
    {
     "name": "stdout",
     "output_type": "stream",
     "text": [
      "WARNING:tensorflow:Layer conv2d_5 is casting an input tensor from dtype float64 to the layer's dtype of float32, which is new behavior in TensorFlow 2.  The layer has dtype float32 because it's dtype defaults to floatx.\n",
      "\n",
      "If you intended to run this layer in float32, you can safely ignore this warning. If in doubt, this warning is likely only an issue if you are porting a TensorFlow 1.X model to TensorFlow 2.\n",
      "\n",
      "To change all layers to have dtype float64 by default, call `tf.keras.backend.set_floatx('float64')`. To change just this layer, pass dtype='float64' to the layer constructor. If you are the author of this layer, you can disable autocasting by passing autocast=False to the base Layer constructor.\n",
      "\n",
      "Epoch 1:      loss = 2.67979    val_loss = 2.44109    acc = 0.09095    val_acc = 0.10694    time = 17.76     \n",
      "Epoch 2:      loss = 2.2995     val_loss = 2.23215    acc = 0.1141     val_acc = 0.12853    time = 17.45     \n",
      "Epoch 3:      loss = 2.18554    val_loss = 2.20065    acc = 0.13909    val_acc = 0.14819    time = 16.19     \n",
      "Epoch 4:      loss = 2.10891    val_loss = 2.11123    acc = 0.15437    val_acc = 0.16212    time = 15.92     \n",
      "Epoch 5:      loss = 2.0925     val_loss = 2.04043    acc = 0.16934    val_acc = 0.17526    time = 17.52     \n",
      "Epoch 6:      loss = 1.99422    val_loss = 2.04735    acc = 0.18253    val_acc = 0.18873    time = 16.35     \n",
      "Epoch 7:      loss = 1.98683    val_loss = 2.0204     acc = 0.19277    val_acc = 0.19564    time = 17.03     \n",
      "Epoch 8:      loss = 1.92029    val_loss = 1.9397     acc = 0.20005    val_acc = 0.20512    time = 18.8      \n",
      "Epoch 9:      loss = 1.9108     val_loss = 1.89021    acc = 0.21009    val_acc = 0.2141     time = 16.98     \n",
      "Epoch 10:      loss = 1.83667    val_loss = 1.85463    acc = 0.21853    val_acc = 0.22259    time = 16.19     \n",
      "Epoch 11:      loss = 1.87639    val_loss = 1.84908    acc = 0.22654    val_acc = 0.22986    time = 15.8      \n",
      "Epoch 12:      loss = 1.79228    val_loss = 1.78269    acc = 0.23327    val_acc = 0.23665    time = 17.6      \n",
      "Epoch 13:      loss = 1.75805    val_loss = 1.7279     acc = 0.24019    val_acc = 0.24388    time = 16.2      \n",
      "Epoch 14:      loss = 1.71555    val_loss = 1.71407    acc = 0.24769    val_acc = 0.25136    time = 18.04     \n",
      "Epoch 15:      loss = 1.71829    val_loss = 1.70462    acc = 0.25506    val_acc = 0.25889    time = 17.17     \n"
     ]
    }
   ],
   "source": [
    "loss, val_loss, acc, val_acc = train_model(model, train_ds, test_ds, 50, loss_func, acc_func)"
   ]
  },
  {
   "cell_type": "code",
   "execution_count": 20,
   "metadata": {},
   "outputs": [
    {
     "data": {
      "image/png": "[encoded data removed]",
      "text/plain": [
       "<Figure size 432x288 with 1 Axes>"
      ]
     },
     "metadata": {
      "needs_background": "light"
     },
     "output_type": "display_data"
    }
   ],
   "source": [
    "### Evaluating the model - loss ###\n",
    "plt.plot(loss, label = 'loss')\n",
    "plt.plot(val_loss, label = 'val_loss')\n",
    "plt.title('Loss')\n",
    "plt.xlabel('epochs')\n",
    "plt.legend()\n",
    "plt.show()"
   ]
  },
  {
   "cell_type": "code",
   "execution_count": 21,
   "metadata": {},
   "outputs": [
    {
     "data": {
      "image/png": "[encoded data removed]",
      "text/plain": [
       "<Figure size 432x288 with 1 Axes>"
      ]
     },
     "metadata": {
      "needs_background": "light"
     },
     "output_type": "display_data"
    }
   ],
   "source": [
    "### Evaluating the model - accuracy ###\n",
    "plt.plot(acc, label = 'acc')\n",
    "plt.plot(val_acc, label = 'val_acc')\n",
    "plt.title('Accuracy')\n",
    "plt.xlabel('epochs')\n",
    "plt.legend()\n",
    "plt.show()"
   ]
  }
 ],
 "metadata": {
  "kernelspec": {
   "display_name": "OpenAIGym",
   "language": "python",
   "name": "openaigym"
  },
  "language_info": {
   "codemirror_mode": {
    "name": "ipython",
    "version": 3
   },
   "file_extension": ".py",
   "mimetype": "text/x-python",
   "name": "python",
   "nbconvert_exporter": "python",
   "pygments_lexer": "ipython3",
   "version": "3.7.7"
  }
 },
 "nbformat": 4,
 "nbformat_minor": 2
}
