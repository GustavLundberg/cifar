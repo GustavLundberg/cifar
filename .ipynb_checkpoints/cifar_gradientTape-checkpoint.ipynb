{
 "cells": [
  {
   "cell_type": "code",
   "execution_count": null,
   "metadata": {},
   "outputs": [],
   "source": [
    "### Training a CNN using gradient_tape to 'manually' grab the gradients and updating the weights of the network ###"
   ]
  },
  {
   "cell_type": "code",
   "execution_count": 2,
   "metadata": {},
   "outputs": [
    {
     "name": "stdout",
     "output_type": "stream",
     "text": [
      "2.1.0\n"
     ]
    }
   ],
   "source": [
    "import tensorflow as tf\n",
    "from tensorflow.keras import datasets, layers, models, optimizers, losses\n",
    "import matplotlib.pyplot as plt\n",
    "import numpy as np\n",
    "import math\n",
    "from collections import Counter\n",
    "print(tf.__version__)"
   ]
  },
  {
   "cell_type": "code",
   "execution_count": 3,
   "metadata": {},
   "outputs": [],
   "source": [
    "(train_images, train_labels), (test_images, test_labels) = datasets.cifar10.load_data()\n",
    "num_classes = 10"
   ]
  },
  {
   "cell_type": "code",
   "execution_count": 17,
   "metadata": {},
   "outputs": [
    {
     "name": "stdout",
     "output_type": "stream",
     "text": [
      "<class 'numpy.ndarray'>\n",
      "train_images.shape =  (50000, 32, 32, 3)\n",
      "train_labels.shape =  (50000, 10)\n",
      "test_images.shape =  (10000, 32, 32, 3)\n",
      "test_labels.shape =  (10000, 10)\n"
     ]
    }
   ],
   "source": [
    "### Data exploration ###\n",
    "print(type(train_images))\n",
    "print('train_images.shape = ', train_images.shape)\n",
    "print('train_labels.shape = ', train_labels.shape)\n",
    "print('test_images.shape = ', test_images.shape)\n",
    "print('test_labels.shape = ', test_labels.shape)"
   ]
  },
  {
   "cell_type": "code",
   "execution_count": 5,
   "metadata": {},
   "outputs": [
    {
     "name": "stdout",
     "output_type": "stream",
     "text": [
      "labels =  {0, 1, 2, 3, 4, 5, 6, 7, 8, 9}\n",
      "train_count =  Counter({6: 5000, 9: 5000, 4: 5000, 1: 5000, 2: 5000, 7: 5000, 8: 5000, 3: 5000, 5: 5000, 0: 5000})\n",
      "test_count =  Counter({3: 1000, 8: 1000, 0: 1000, 6: 1000, 1: 1000, 9: 1000, 5: 1000, 7: 1000, 4: 1000, 2: 1000})\n"
     ]
    }
   ],
   "source": [
    "### Data exploration - outputs ###\n",
    "set_labels = set(np.reshape(train_labels, (-1)))\n",
    "train_count = Counter(np.reshape(train_labels, (-1)))\n",
    "test_count = Counter(np.reshape(test_labels, (-1)))\n",
    "print('labels = ', set_labels)\n",
    "print('train_count = ', train_count)\n",
    "print('test_count = ', test_count)"
   ]
  },
  {
   "cell_type": "code",
   "execution_count": 6,
   "metadata": {},
   "outputs": [],
   "source": [
    "### Converting to one-hot encoding ###\n",
    "train_labels = np.array(tf.one_hot(train_labels, depth = num_classes))\n",
    "test_labels = np.array(tf.one_hot(test_labels, depth = num_classes))"
   ]
  },
  {
   "cell_type": "code",
   "execution_count": 7,
   "metadata": {},
   "outputs": [
    {
     "name": "stdout",
     "output_type": "stream",
     "text": [
      "train_labels.shape =  (50000, 10)\n",
      "test_labels.shape =  (10000, 10)\n",
      "train_labels[0] =  [0. 0. 0. 0. 0. 0. 1. 0. 0. 0.]\n"
     ]
    }
   ],
   "source": [
    "train_labels = np.reshape(train_labels, (-1, num_classes))\n",
    "test_labels = np.reshape(test_labels, (-1, num_classes))\n",
    "print('train_labels.shape = ', train_labels.shape)\n",
    "print('test_labels.shape = ', test_labels.shape)\n",
    "print('train_labels[0] = ', train_labels[0])"
   ]
  },
  {
   "cell_type": "code",
   "execution_count": 8,
   "metadata": {},
   "outputs": [
    {
     "name": "stdout",
     "output_type": "stream",
     "text": [
      "<class 'numpy.ndarray'>\n",
      "min_input_value =  0\n",
      "max_input_value =  255\n"
     ]
    }
   ],
   "source": [
    "### Data exploration - inputs ###\n",
    "print(type(train_images[0]))\n",
    "min_input_value = min(np.min(train_images), np.min(test_images))\n",
    "max_input_value = max(np.max(train_images), np.max(test_images))\n",
    "print('min_input_value = ', min_input_value)\n",
    "print('max_input_value = ', max_input_value)"
   ]
  },
  {
   "cell_type": "code",
   "execution_count": 9,
   "metadata": {},
   "outputs": [
    {
     "data": {
      "image/png": "[encoded data removed]",
      "text/plain": [
       "<Figure size 576x576 with 5 Axes>"
      ]
     },
     "metadata": {},
     "output_type": "display_data"
    }
   ],
   "source": [
    "### Plotting a few images ###\n",
    "class_names = ['airplane', 'automobile', 'bird', 'cat', 'deer', 'dog', 'frog', 'horse', 'ship', 'truck']\n",
    "\n",
    "def plot_examples(x, y = None, figsize = (8, 8)):\n",
    "    \n",
    "    ncols = math.ceil(len(x) ** (1/2))\n",
    "    nrows = ncols\n",
    "    plt.figure(figsize = figsize)\n",
    "    \n",
    "    for i in range(len(x)):\n",
    "        ax = plt.subplot(nrows, ncols, i+1)\n",
    "        plt.imshow(x[i])\n",
    "        if y.any():\n",
    "            plt.title(class_names[np.argmax(y[i])])\n",
    "        plt.xticks([])\n",
    "        plt.yticks([])\n",
    "    \n",
    "\n",
    "            \n",
    "plot_examples(train_images[:5], train_labels[:5])"
   ]
  },
  {
   "cell_type": "code",
   "execution_count": 10,
   "metadata": {},
   "outputs": [],
   "source": [
    "### Normalization ###\n",
    "train_images = train_images / 255\n",
    "test_images = test_images / 255"
   ]
  },
  {
   "cell_type": "code",
   "execution_count": 35,
   "metadata": {},
   "outputs": [
    {
     "name": "stdout",
     "output_type": "stream",
     "text": [
      "<class 'numpy.ndarray'>\n",
      "x =  <class 'tensorflow.python.data.ops.dataset_ops.TensorSliceDataset'>\n",
      "(32, 32, 3)\n",
      "<BatchDataset shapes: (None, 32, 32, 3), types: tf.float64>\n"
     ]
    }
   ],
   "source": [
    "### Converting to tf.dataset ###\n",
    "x = tf.data.Dataset.from_tensor_slices(train_images[:10])\n",
    "print(type(train_images))\n",
    "print('x = ', type(x))\n",
    "d = list(x.as_numpy_iterator())\n",
    "print(d[0].shape)\n",
    "t = x.shuffle(2).batch(4)\n",
    "print(t)"
   ]
  },
  {
   "cell_type": "code",
   "execution_count": 13,
   "metadata": {},
   "outputs": [
    {
     "name": "stdout",
     "output_type": "stream",
     "text": [
      "Model: \"sequential_1\"\n",
      "_________________________________________________________________\n",
      "Layer (type)                 Output Shape              Param #   \n",
      "=================================================================\n",
      "conv2d_2 (Conv2D)            (None, 30, 30, 32)        896       \n",
      "_________________________________________________________________\n",
      "dropout_2 (Dropout)          (None, 30, 30, 32)        0         \n",
      "_________________________________________________________________\n",
      "max_pooling2d_1 (MaxPooling2 (None, 15, 15, 32)        0         \n",
      "_________________________________________________________________\n",
      "batch_normalization_1 (Batch (None, 15, 15, 32)        128       \n",
      "_________________________________________________________________\n",
      "conv2d_3 (Conv2D)            (None, 13, 13, 32)        9248      \n",
      "_________________________________________________________________\n",
      "dropout_3 (Dropout)          (None, 13, 13, 32)        0         \n",
      "_________________________________________________________________\n",
      "flatten_1 (Flatten)          (None, 5408)              0         \n",
      "_________________________________________________________________\n",
      "dense_1 (Dense)              (None, 10)                54090     \n",
      "=================================================================\n",
      "Total params: 64,362\n",
      "Trainable params: 64,298\n",
      "Non-trainable params: 64\n",
      "_________________________________________________________________\n"
     ]
    }
   ],
   "source": [
    "model = models.Sequential()\n",
    "\n",
    "model.add(layers.Conv2D(32, (3, 3), input_shape = (32, 32, 3), activation = 'relu'))#, data_format='channels_last'))\n",
    "model.add(layers.Dropout(rate = 0.5))\n",
    "model.add(layers.MaxPooling2D((2, 2)))\n",
    "\n",
    "model.add(layers.BatchNormalization())\n",
    "model.add(layers.Conv2D(32, (3, 3), activation = 'relu'))\n",
    "model.add(layers.Dropout(rate = 0.5))\n",
    "\n",
    "model.add(layers.Flatten())\n",
    "model.add(layers.Dense(num_classes, activation = 'softmax'))\n",
    "\n",
    "model.summary()"
   ]
  },
  {
   "cell_type": "code",
   "execution_count": 14,
   "metadata": {},
   "outputs": [],
   "source": [
    "### Choosing optimizer and compiling ###\n",
    "opt = optimizers.Adam(learning_rate = 0.001)\n",
    "loss_func = losses.CategoricalCrossentropy()\n",
    "#model.compile(opt, loss = loss_func, metrics = ['accuracy'])"
   ]
  },
  {
   "cell_type": "code",
   "execution_count": 15,
   "metadata": {},
   "outputs": [],
   "source": [
    "### Function for training a single batch ###\n",
    "def train_one_batch(x, y):\n",
    "    \n",
    "    with tf.GradientTape() as tape:\n",
    "        preds = model(x)\n",
    "        loss = loss_function(y, preds)\n",
    "    \n",
    "    gradients = tape.gradient(loss, model.trainable_variables)\n",
    "    opt.apply_gradients(zip(gradients, model.trainable_variables))\n",
    "\n",
    "    return loss"
   ]
  },
  {
   "cell_type": "code",
   "execution_count": 16,
   "metadata": {},
   "outputs": [
    {
     "ename": "SyntaxError",
     "evalue": "unexpected EOF while parsing (<ipython-input-16-6e8f7e045b22>, line 5)",
     "output_type": "error",
     "traceback": [
      "\u001b[1;36m  File \u001b[1;32m\"<ipython-input-16-6e8f7e045b22>\"\u001b[1;36m, line \u001b[1;32m5\u001b[0m\n\u001b[1;33m    \u001b[0m\n\u001b[1;37m    ^\u001b[0m\n\u001b[1;31mSyntaxError\u001b[0m\u001b[1;31m:\u001b[0m unexpected EOF while parsing\n"
     ]
    }
   ],
   "source": [
    "### Function for training the model ###\n",
    "def train_model(model, x_train, y_train, x_test, y_test, epochs, batch_size):\n",
    "    t_start = time.time()\n",
    "    for ep in range(epochs):\n",
    "        for \n",
    "        \n",
    "    "
   ]
  },
  {
   "cell_type": "code",
   "execution_count": null,
   "metadata": {},
   "outputs": [],
   "source": []
  }
 ],
 "metadata": {
  "kernelspec": {
   "display_name": "OpenAIGym",
   "language": "python",
   "name": "openaigym"
  },
  "language_info": {
   "codemirror_mode": {
    "name": "ipython",
    "version": 3
   },
   "file_extension": ".py",
   "mimetype": "text/x-python",
   "name": "python",
   "nbconvert_exporter": "python",
   "pygments_lexer": "ipython3",
   "version": "3.7.7"
  }
 },
 "nbformat": 4,
 "nbformat_minor": 2
}
